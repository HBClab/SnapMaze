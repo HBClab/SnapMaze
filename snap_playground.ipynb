{
 "cells": [
  {
   "cell_type": "markdown",
   "metadata": {},
   "source": [
    "# TODO for tracking SNAP data\n",
    "- get pandas (installed/working on the work computers)\n",
    "- make conditional to load pandas df from file (if it exists), or make a new one\n",
    "- after each update to the pandas df, write the output to file\n",
    "- "
   ]
  },
  {
   "cell_type": "code",
   "execution_count": 32,
   "metadata": {
    "collapsed": true
   },
   "outputs": [],
   "source": [
    "import pandas as pd\n",
    "from time import localtime, strftime\n",
    "import time"
   ]
  },
  {
   "cell_type": "code",
   "execution_count": 45,
   "metadata": {
    "collapsed": true
   },
   "outputs": [],
   "source": [
    "columns = ['study_id', 'lab_id', 'experimenter', 'date', 'condition',\n",
    "                   'maze', 'phase', 'trial', 'sub_trial', 'object',\n",
    "                   'movement_time', 'average_velocity', 'total_distance']"
   ]
  },
  {
   "cell_type": "code",
   "execution_count": 46,
   "metadata": {},
   "outputs": [],
   "source": [
    "sample_df = pd.DataFrame(columns=columns)"
   ]
  },
  {
   "cell_type": "code",
   "execution_count": 47,
   "metadata": {},
   "outputs": [
    {
     "data": {
      "text/html": [
       "<div>\n",
       "<style>\n",
       "    .dataframe thead tr:only-child th {\n",
       "        text-align: right;\n",
       "    }\n",
       "\n",
       "    .dataframe thead th {\n",
       "        text-align: left;\n",
       "    }\n",
       "\n",
       "    .dataframe tbody tr th {\n",
       "        vertical-align: top;\n",
       "    }\n",
       "</style>\n",
       "<table border=\"1\" class=\"dataframe\">\n",
       "  <thead>\n",
       "    <tr style=\"text-align: right;\">\n",
       "      <th></th>\n",
       "      <th>study_id</th>\n",
       "      <th>lab_id</th>\n",
       "      <th>experimenter</th>\n",
       "      <th>date</th>\n",
       "      <th>condition</th>\n",
       "      <th>maze</th>\n",
       "      <th>phase</th>\n",
       "      <th>trial</th>\n",
       "      <th>sub_trial</th>\n",
       "      <th>object</th>\n",
       "      <th>movement_time</th>\n",
       "      <th>average_velocity</th>\n",
       "      <th>total_distance</th>\n",
       "    </tr>\n",
       "  </thead>\n",
       "  <tbody>\n",
       "  </tbody>\n",
       "</table>\n",
       "</div>"
      ],
      "text/plain": [
       "Empty DataFrame\n",
       "Columns: [study_id, lab_id, experimenter, date, condition, maze, phase, trial, sub_trial, object, movement_time, average_velocity, total_distance]\n",
       "Index: []"
      ]
     },
     "execution_count": 47,
     "metadata": {},
     "output_type": "execute_result"
    }
   ],
   "source": [
    "sample_df"
   ]
  },
  {
   "cell_type": "code",
   "execution_count": 6,
   "metadata": {
    "collapsed": true
   },
   "outputs": [],
   "source": [
    "global x\n",
    "x = 5"
   ]
  },
  {
   "cell_type": "code",
   "execution_count": 7,
   "metadata": {},
   "outputs": [
    {
     "data": {
      "text/plain": [
       "5"
      ]
     },
     "execution_count": 7,
     "metadata": {},
     "output_type": "execute_result"
    }
   ],
   "source": [
    "x"
   ]
  },
  {
   "cell_type": "code",
   "execution_count": 52,
   "metadata": {
    "collapsed": true
   },
   "outputs": [],
   "source": [
    "def create_df():\n",
    "    global mydf\n",
    "    mydf = pd.DataFrame(columns=columns)\n",
    "    "
   ]
  },
  {
   "cell_type": "code",
   "execution_count": 53,
   "metadata": {},
   "outputs": [],
   "source": [
    "create_df()\n"
   ]
  },
  {
   "cell_type": "code",
   "execution_count": 54,
   "metadata": {},
   "outputs": [],
   "source": [
    "def rando():\n",
    "    print(mydf)"
   ]
  },
  {
   "cell_type": "code",
   "execution_count": 55,
   "metadata": {},
   "outputs": [
    {
     "data": {
      "text/html": [
       "<div>\n",
       "<style>\n",
       "    .dataframe thead tr:only-child th {\n",
       "        text-align: right;\n",
       "    }\n",
       "\n",
       "    .dataframe thead th {\n",
       "        text-align: left;\n",
       "    }\n",
       "\n",
       "    .dataframe tbody tr th {\n",
       "        vertical-align: top;\n",
       "    }\n",
       "</style>\n",
       "<table border=\"1\" class=\"dataframe\">\n",
       "  <thead>\n",
       "    <tr style=\"text-align: right;\">\n",
       "      <th></th>\n",
       "      <th>study_id</th>\n",
       "      <th>lab_id</th>\n",
       "      <th>experimenter</th>\n",
       "      <th>date</th>\n",
       "      <th>condition</th>\n",
       "      <th>maze</th>\n",
       "      <th>phase</th>\n",
       "      <th>trial</th>\n",
       "      <th>sub_trial</th>\n",
       "      <th>object</th>\n",
       "      <th>movement_time</th>\n",
       "      <th>average_velocity</th>\n",
       "      <th>total_distance</th>\n",
       "    </tr>\n",
       "  </thead>\n",
       "  <tbody>\n",
       "  </tbody>\n",
       "</table>\n",
       "</div>"
      ],
      "text/plain": [
       "Empty DataFrame\n",
       "Columns: [study_id, lab_id, experimenter, date, condition, maze, phase, trial, sub_trial, object, movement_time, average_velocity, total_distance]\n",
       "Index: []"
      ]
     },
     "execution_count": 55,
     "metadata": {},
     "output_type": "execute_result"
    }
   ],
   "source": [
    "mydf"
   ]
  },
  {
   "cell_type": "raw",
   "metadata": {},
   "source": [
    "x = 4"
   ]
  },
  {
   "cell_type": "code",
   "execution_count": 12,
   "metadata": {},
   "outputs": [
    {
     "data": {
      "text/plain": [
       "4"
      ]
     },
     "execution_count": 12,
     "metadata": {},
     "output_type": "execute_result"
    }
   ],
   "source": [
    "x"
   ]
  },
  {
   "cell_type": "code",
   "execution_count": 13,
   "metadata": {},
   "outputs": [
    {
     "data": {
      "text/plain": [
       "4"
      ]
     },
     "execution_count": 13,
     "metadata": {},
     "output_type": "execute_result"
    }
   ],
   "source": [
    "x"
   ]
  },
  {
   "cell_type": "code",
   "execution_count": 17,
   "metadata": {
    "collapsed": true
   },
   "outputs": [],
   "source": [
    "def myfunc():\n",
    "    global x\n",
    "    x = 5"
   ]
  },
  {
   "cell_type": "code",
   "execution_count": 18,
   "metadata": {
    "collapsed": true
   },
   "outputs": [],
   "source": [
    "myfunc()"
   ]
  },
  {
   "cell_type": "code",
   "execution_count": 19,
   "metadata": {},
   "outputs": [
    {
     "data": {
      "text/plain": [
       "5"
      ]
     },
     "execution_count": 19,
     "metadata": {},
     "output_type": "execute_result"
    }
   ],
   "source": [
    "x"
   ]
  },
  {
   "cell_type": "code",
   "execution_count": 42,
   "metadata": {},
   "outputs": [],
   "source": [
    "subject_id_data = 2\n",
    "lab_id = ''\n",
    "experimenter_data = 'James'\n",
    "cur_date = strftime(\"%m/%d/%Y\", localtime())\n",
    "condition = 0\n",
    "maze_root = 'VMS'\n",
    "phase = 'wut'\n",
    "trial_number = 0\n",
    "elapsed_time = 1232.345\n",
    "average_velocity = 234.23\n",
    "total_distance = 12344\n",
    "resized_coordinate_array = [[0, 1, 2, 3]]\n",
    "\n"
   ]
  },
  {
   "cell_type": "code",
   "execution_count": 43,
   "metadata": {},
   "outputs": [
    {
     "data": {
      "text/plain": [
       "'03/16/2018'"
      ]
     },
     "execution_count": 43,
     "metadata": {},
     "output_type": "execute_result"
    }
   ],
   "source": [
    "cur_date"
   ]
  },
  {
   "cell_type": "code",
   "execution_count": 44,
   "metadata": {},
   "outputs": [],
   "source": [
    "output_info = {\n",
    "        'study_id': subject_id_data,\n",
    "        'lab_id': '',\n",
    "        'experimenter': experimenter_data,\n",
    "        'date': cur_date,\n",
    "        'condition': condition,\n",
    "        'maze': maze_root,\n",
    "        'phase': phase,\n",
    "        'trial': trial_number,\n",
    "        'movement_time': elapsed_time,\n",
    "        'average_velocity': average_velocity,\n",
    "        'total_distance': total_distance,\n",
    "        'coordinates': resized_coordinate_array,\n",
    "    }\n"
   ]
  },
  {
   "cell_type": "code",
   "execution_count": 57,
   "metadata": {},
   "outputs": [
    {
     "data": {
      "text/html": [
       "<div>\n",
       "<style>\n",
       "    .dataframe thead tr:only-child th {\n",
       "        text-align: right;\n",
       "    }\n",
       "\n",
       "    .dataframe thead th {\n",
       "        text-align: left;\n",
       "    }\n",
       "\n",
       "    .dataframe tbody tr th {\n",
       "        vertical-align: top;\n",
       "    }\n",
       "</style>\n",
       "<table border=\"1\" class=\"dataframe\">\n",
       "  <thead>\n",
       "    <tr style=\"text-align: right;\">\n",
       "      <th></th>\n",
       "      <th>study_id</th>\n",
       "      <th>lab_id</th>\n",
       "      <th>experimenter</th>\n",
       "      <th>date</th>\n",
       "      <th>condition</th>\n",
       "      <th>maze</th>\n",
       "      <th>phase</th>\n",
       "      <th>trial</th>\n",
       "      <th>sub_trial</th>\n",
       "      <th>object</th>\n",
       "      <th>movement_time</th>\n",
       "      <th>average_velocity</th>\n",
       "      <th>total_distance</th>\n",
       "      <th>coordinates</th>\n",
       "    </tr>\n",
       "  </thead>\n",
       "  <tbody>\n",
       "    <tr>\n",
       "      <th>0</th>\n",
       "      <td>2</td>\n",
       "      <td></td>\n",
       "      <td>James</td>\n",
       "      <td>03/16/2018</td>\n",
       "      <td>0</td>\n",
       "      <td>VMS</td>\n",
       "      <td>wut</td>\n",
       "      <td>0</td>\n",
       "      <td>NaN</td>\n",
       "      <td>NaN</td>\n",
       "      <td>1232.345</td>\n",
       "      <td>234.23</td>\n",
       "      <td>12344</td>\n",
       "      <td>[[0, 1, 2, 3]]</td>\n",
       "    </tr>\n",
       "  </tbody>\n",
       "</table>\n",
       "</div>"
      ],
      "text/plain": [
       "  study_id lab_id experimenter        date condition maze phase trial  \\\n",
       "0        2               James  03/16/2018         0  VMS   wut     0   \n",
       "\n",
       "   sub_trial  object  movement_time  average_velocity total_distance  \\\n",
       "0        NaN     NaN       1232.345            234.23          12344   \n",
       "\n",
       "      coordinates  \n",
       "0  [[0, 1, 2, 3]]  "
      ]
     },
     "execution_count": 57,
     "metadata": {},
     "output_type": "execute_result"
    }
   ],
   "source": [
    "mydf.append(output_info, ignore_index=True)"
   ]
  },
  {
   "cell_type": "code",
   "execution_count": null,
   "metadata": {
    "collapsed": true
   },
   "outputs": [],
   "source": []
  }
 ],
 "metadata": {
  "kernelspec": {
   "display_name": "Python 3",
   "language": "python",
   "name": "python3"
  },
  "language_info": {
   "codemirror_mode": {
    "name": "ipython",
    "version": 3
   },
   "file_extension": ".py",
   "mimetype": "text/x-python",
   "name": "python",
   "nbconvert_exporter": "python",
   "pygments_lexer": "ipython3",
   "version": "3.6.2"
  }
 },
 "nbformat": 4,
 "nbformat_minor": 2
}
